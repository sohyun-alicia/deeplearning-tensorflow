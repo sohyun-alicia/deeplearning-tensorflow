{
  "nbformat": 4,
  "nbformat_minor": 0,
  "metadata": {
    "colab": {
      "name": "chapter4.ipynb",
      "provenance": [],
      "authorship_tag": "ABX9TyNqmELJcZIGIiU8eAL6lhIn",
      "include_colab_link": true
    },
    "kernelspec": {
      "name": "python3",
      "display_name": "Python 3"
    },
    "language_info": {
      "name": "python"
    }
  },
  "cells": [
    {
      "cell_type": "markdown",
      "metadata": {
        "id": "view-in-github",
        "colab_type": "text"
      },
      "source": [
        "<a href=\"https://colab.research.google.com/github/sohyun-alicia/deeplearning-tensorflow/blob/main/chapter4.ipynb\" target=\"_parent\"><img src=\"https://colab.research.google.com/assets/colab-badge.svg\" alt=\"Open In Colab\"/></a>"
      ]
    },
    {
      "cell_type": "markdown",
      "metadata": {
        "id": "W-OvJpYUaWVB"
      },
      "source": [
        "### **MNIST 데이터셋 다운받기**"
      ]
    },
    {
      "cell_type": "code",
      "metadata": {
        "colab": {
          "base_uri": "https://localhost:8080/"
        },
        "id": "Agcix-BJaK_P",
        "outputId": "37838e59-4ad1-4e7e-ccce-64ee5137a31c"
      },
      "source": [
        "from tensorflow.keras.datasets.mnist import load_data\n",
        "\n",
        "# 텐서플로우 저장소에서 데이터 다운\n",
        "(x_train, y_train), (x_test, y_test) = load_data(path='mnist.npz')"
      ],
      "execution_count": null,
      "outputs": [
        {
          "output_type": "stream",
          "text": [
            "Downloading data from https://storage.googleapis.com/tensorflow/tf-keras-datasets/mnist.npz\n",
            "11493376/11490434 [==============================] - 0s 0us/step\n"
          ],
          "name": "stdout"
        }
      ]
    },
    {
      "cell_type": "markdown",
      "metadata": {
        "id": "Mt_U7cQ5ad4-"
      },
      "source": [
        "### **데이터의 형태 확인하기**"
      ]
    },
    {
      "cell_type": "code",
      "metadata": {
        "colab": {
          "base_uri": "https://localhost:8080/"
        },
        "id": "2ra5JX4VaUW1",
        "outputId": "a6ff01bd-1b2d-4ac6-9013-88c3e2deb01b"
      },
      "source": [
        "# 학습 데이터\n",
        "print(x_train.shape, y_train.shape)\n",
        "print(y_train)\n",
        "\n",
        "# 테스트 데이터\n",
        "print(x_test.shape, y_test.shape)\n",
        "print(y_test)"
      ],
      "execution_count": null,
      "outputs": [
        {
          "output_type": "stream",
          "text": [
            "(60000, 28, 28) (60000,)\n",
            "[5 0 4 ... 5 6 8]\n",
            "(10000, 28, 28) (10000,)\n",
            "[7 2 1 ... 4 5 6]\n"
          ],
          "name": "stdout"
        }
      ]
    },
    {
      "cell_type": "markdown",
      "metadata": {
        "id": "xLOMWqagapbX"
      },
      "source": [
        "### **데이터 그려보기**"
      ]
    },
    {
      "cell_type": "code",
      "metadata": {
        "colab": {
          "base_uri": "https://localhost:8080/",
          "height": 809
        },
        "id": "Scn75iQVan_e",
        "outputId": "45144d46-b02a-40d3-d70b-983f121668e7"
      },
      "source": [
        "import matplotlib.pyplot as plt\n",
        "import numpy as np\n",
        "\n",
        "sample_size = 3\n",
        "# 0~59999의 범위에서 무작위로 세 개의 정수 뽑기\n",
        "random_idx = np.random.randint(60000, size=sample_size)\n",
        "\n",
        "for idx in random_idx:\n",
        "  img = x_train[idx, :]\n",
        "  label = y_train[idx]\n",
        "  plt.figure()\n",
        "  plt.imshow(img)\n",
        "  plt.title('%d-th data, label is %d' % (idx, label))"
      ],
      "execution_count": null,
      "outputs": [
        {
          "output_type": "display_data",
          "data": {
            "image/png": "[encoded data removed]",
            "text/plain": [
              "<Figure size 432x288 with 1 Axes>"
            ]
          },
          "metadata": {
            "tags": [],
            "needs_background": "light"
          }
        },
        {
          "output_type": "display_data",
          "data": {
            "image/png": "[encoded data removed]",
            "text/plain": [
              "<Figure size 432x288 with 1 Axes>"
            ]
          },
          "metadata": {
            "tags": [],
            "needs_background": "light"
          }
        },
        {
          "output_type": "display_data",
          "data": {
            "image/png": "[encoded data removed]",
            "text/plain": [
              "<Figure size 432x288 with 1 Axes>"
            ]
          },
          "metadata": {
            "tags": [],
            "needs_background": "light"
          }
        }
      ]
    },
    {
      "cell_type": "markdown",
      "metadata": {
        "id": "aMJHVjbWii9q"
      },
      "source": [
        "### **검증 데이터 만들기**"
      ]
    },
    {
      "cell_type": "code",
      "metadata": {
        "colab": {
          "base_uri": "https://localhost:8080/"
        },
        "id": "cV15o2sDbCN8",
        "outputId": "c6d5dc99-64db-44e7-9714-4babfdc64d68"
      },
      "source": [
        "from sklearn.model_selection import train_test_split\n",
        "\n",
        "# 훈련/테스트 데이터를 0.7/0.3의 비율로 분리\n",
        "x_train, x_val, y_train, y_val = train_test_split(x_train, y_train, test_size = 0.3, random_state = 777)\n",
        "\n",
        "print(f'훈련 데이터 {x_train.shape} 레이블 {y_train.shape}')\n",
        "print(f'검증 데이터 {x_val.shape} 레이블 {y_val.shape}')"
      ],
      "execution_count": null,
      "outputs": [
        {
          "output_type": "stream",
          "text": [
            "훈련 데이터 (42000, 28, 28) 레이블 (42000,)\n",
            "검증 데이터 (18000, 28, 28) 레이블 (18000,)\n"
          ],
          "name": "stdout"
        }
      ]
    },
    {
      "cell_type": "markdown",
      "metadata": {
        "id": "s4qbxLNSi-B4"
      },
      "source": [
        "###**모델 입력을 위한 데이터 전처리**"
      ]
    },
    {
      "cell_type": "code",
      "metadata": {
        "colab": {
          "base_uri": "https://localhost:8080/"
        },
        "id": "9mADg4p7i9vX",
        "outputId": "507e0c84-d8ed-45c3-f3a1-528d12ed8c51"
      },
      "source": [
        "num_x_train = x_train.shape[0]\n",
        "num_x_val = x_val.shape[0]\n",
        "num_x_test = x_test.shape[0]\n",
        "\n",
        "# 모델의 입력으로 사용하기 위한 전처리 과정\n",
        "x_train = (x_train.reshape((num_x_train, 28 * 28))) / 255\n",
        "x_val = (x_val.reshape((num_x_val, 28 * 28))) / 255\n",
        "x_test = (x_test.reshape((num_x_test, 28 * 28))) / 255\n",
        "\n",
        "print(x_train.shape)        # 모델 입력을 위해 데이터를 784차원으로 변경"
      ],
      "execution_count": null,
      "outputs": [
        {
          "output_type": "stream",
          "text": [
            "(42000, 784)\n"
          ],
          "name": "stdout"
        }
      ]
    },
    {
      "cell_type": "markdown",
      "metadata": {
        "id": "H_VTCp_qjnA6"
      },
      "source": [
        "### **모델 입력을 위한 레이블 전처리**"
      ]
    },
    {
      "cell_type": "code",
      "metadata": {
        "colab": {
          "base_uri": "https://localhost:8080/"
        },
        "id": "ZJk7SLPLi8KY",
        "outputId": "a1d48a77-326c-4032-cd32-af7f8a4326ed"
      },
      "source": [
        "from tensorflow.keras.utils import to_categorical\n",
        "\n",
        "# 각 데이터의 레이블을 범주형 형태로 변경\n",
        "y_train = to_categorical(y_train)\n",
        "y_val = to_categorical(y_val)\n",
        "y_test = to_categorical(y_test)\n",
        "\n",
        "print(y_train)"
      ],
      "execution_count": null,
      "outputs": [
        {
          "output_type": "stream",
          "text": [
            "[[0. 0. 1. ... 0. 0. 0.]\n",
            " [0. 0. 0. ... 1. 0. 0.]\n",
            " [0. 0. 0. ... 0. 0. 0.]\n",
            " ...\n",
            " [0. 0. 0. ... 0. 0. 0.]\n",
            " [0. 0. 0. ... 0. 0. 0.]\n",
            " [0. 0. 0. ... 0. 0. 0.]]\n"
          ],
          "name": "stdout"
        }
      ]
    },
    {
      "cell_type": "markdown",
      "metadata": {
        "id": "xHfn5E2Bj4fV"
      },
      "source": [
        "### **모델 구성하기**"
      ]
    },
    {
      "cell_type": "code",
      "metadata": {
        "id": "Ueq3coRwj2HH"
      },
      "source": [
        "from tensorflow.keras.models import Sequential\n",
        "from tensorflow.keras.layers import Dense\n",
        "\n",
        "model = Sequential()\n",
        "# 입력 데이터 형태 명시 필수\n",
        "# 784차원의 데이터를 입력으로 받고, 64개의 출력을 가지는 첫 번째 Dense충\n",
        "model.add(Dense(64, activation = 'relu', input_shape = (784, )))\n",
        "model.add(Dense(32, activation = 'relu'))       # 32개의 출력을 가지는 Dense층\n",
        "model.add(Dense(10, activation = 'softmax'))    # 10개의 출력을 가지는 신경망"
      ],
      "execution_count": null,
      "outputs": []
    },
    {
      "cell_type": "markdown",
      "metadata": {
        "id": "M2Vd7hMqlNk6"
      },
      "source": [
        "### **소프트맥스와 시그모이드 값 비교**"
      ]
    },
    {
      "cell_type": "code",
      "metadata": {
        "colab": {
          "base_uri": "https://localhost:8080/"
        },
        "id": "UyFLhIGfkRU6",
        "outputId": "0f599c08-ec1e-4a23-922e-c0789ca1436d"
      },
      "source": [
        "def softmax(arr):\n",
        "  m = np.max(arr)\n",
        "  arr = arr - m\n",
        "  arr = np.exp(arr)\n",
        "  return arr / np.sum(arr)\n",
        "\n",
        "def sigmoid(x):\n",
        "  return 1 / (1 + np.exp(-x))\n",
        "\n",
        "case_1 = np.array([3.1, 3.0, 2.9])\n",
        "case_2 = np.array([2.0, 1.0, 0.7])\n",
        "\n",
        "np.set_printoptions(precision=3)\n",
        "print(f'sigmoid {sigmoid(case_1)}, softmax {softmax(case_1)}')\n",
        "print(f'sigmoid {sigmoid(case_2)}, softmax {softmax(case_2)}')"
      ],
      "execution_count": null,
      "outputs": [
        {
          "output_type": "stream",
          "text": [
            "sigmoid [0.957 0.953 0.948], softmax [0.367 0.332 0.301]\n",
            "sigmoid [0.881 0.731 0.668], softmax [0.61  0.224 0.166]\n"
          ],
          "name": "stdout"
        }
      ]
    },
    {
      "cell_type": "markdown",
      "metadata": {
        "id": "OtdB275Klzq1"
      },
      "source": [
        "###**학습과정 설정하기**"
      ]
    },
    {
      "cell_type": "code",
      "metadata": {
        "id": "_pRaMqtRlv7y"
      },
      "source": [
        "model.compile(optimizer='adam',       # 옵티마이저 : Adam\n",
        "              # 손실함수 : categorical_crossentropy\n",
        "              loss = 'categorical_crossentropy', \n",
        "              # 모니터링 할 평가지표\n",
        "              metrics=['acc'])"
      ],
      "execution_count": null,
      "outputs": []
    },
    {
      "cell_type": "markdown",
      "metadata": {
        "id": "4KxlfpA4mHKs"
      },
      "source": [
        "### **모델 학습하기**"
      ]
    },
    {
      "cell_type": "code",
      "metadata": {
        "colab": {
          "base_uri": "https://localhost:8080/"
        },
        "id": "5dlk_Bn6l88R",
        "outputId": "1b468b48-68d8-44d6-c036-5b6e74ca6167"
      },
      "source": [
        "history = model.fit(x_train, y_train,\n",
        "                    epochs = 30,\n",
        "                    batch_size = 128,\n",
        "                    validation_data = (x_val, y_val))"
      ],
      "execution_count": null,
      "outputs": [
        {
          "output_type": "stream",
          "text": [
            "Epoch 1/30\n",
            "329/329 [==============================] - 2s 4ms/step - loss: 1.8179 - acc: 0.4084 - val_loss: 50.1274 - val_acc: 0.4858\n",
            "Epoch 2/30\n",
            "329/329 [==============================] - 1s 4ms/step - loss: 0.9025 - acc: 0.7343 - val_loss: 44.2822 - val_acc: 0.6852\n",
            "Epoch 3/30\n",
            "329/329 [==============================] - 1s 4ms/step - loss: 0.6406 - acc: 0.8102 - val_loss: 37.2125 - val_acc: 0.7659\n",
            "Epoch 4/30\n",
            "329/329 [==============================] - 1s 4ms/step - loss: 0.5290 - acc: 0.8460 - val_loss: 37.2680 - val_acc: 0.7885\n",
            "Epoch 5/30\n",
            "329/329 [==============================] - 1s 4ms/step - loss: 0.4622 - acc: 0.8653 - val_loss: 39.5915 - val_acc: 0.7931\n",
            "Epoch 6/30\n",
            "329/329 [==============================] - 1s 4ms/step - loss: 0.4198 - acc: 0.8785 - val_loss: 40.6042 - val_acc: 0.7967\n",
            "Epoch 7/30\n",
            "329/329 [==============================] - 1s 3ms/step - loss: 0.3909 - acc: 0.8857 - val_loss: 38.9070 - val_acc: 0.8102\n",
            "Epoch 8/30\n",
            "329/329 [==============================] - 1s 4ms/step - loss: 0.3719 - acc: 0.8916 - val_loss: 37.5781 - val_acc: 0.8218\n",
            "Epoch 9/30\n",
            "329/329 [==============================] - 1s 4ms/step - loss: 0.3552 - acc: 0.8964 - val_loss: 37.7664 - val_acc: 0.8245\n",
            "Epoch 10/30\n",
            "329/329 [==============================] - 1s 4ms/step - loss: 0.3426 - acc: 0.8997 - val_loss: 35.9712 - val_acc: 0.8336\n",
            "Epoch 11/30\n",
            "329/329 [==============================] - 1s 4ms/step - loss: 0.3319 - acc: 0.9035 - val_loss: 36.3618 - val_acc: 0.8328\n",
            "Epoch 12/30\n",
            "329/329 [==============================] - 1s 4ms/step - loss: 0.3222 - acc: 0.9056 - val_loss: 35.6994 - val_acc: 0.8381\n",
            "Epoch 13/30\n",
            "329/329 [==============================] - 1s 3ms/step - loss: 0.3129 - acc: 0.9086 - val_loss: 36.1057 - val_acc: 0.8376\n",
            "Epoch 14/30\n",
            "329/329 [==============================] - 1s 4ms/step - loss: 0.3043 - acc: 0.9114 - val_loss: 35.4818 - val_acc: 0.8410\n",
            "Epoch 15/30\n",
            "329/329 [==============================] - 1s 4ms/step - loss: 0.2962 - acc: 0.9137 - val_loss: 37.2057 - val_acc: 0.8374\n",
            "Epoch 16/30\n",
            "329/329 [==============================] - 1s 4ms/step - loss: 0.2889 - acc: 0.9159 - val_loss: 36.6021 - val_acc: 0.8395\n",
            "Epoch 17/30\n",
            "329/329 [==============================] - 1s 4ms/step - loss: 0.2804 - acc: 0.9177 - val_loss: 38.1726 - val_acc: 0.8340\n",
            "Epoch 18/30\n",
            "329/329 [==============================] - 1s 3ms/step - loss: 0.2738 - acc: 0.9199 - val_loss: 38.2592 - val_acc: 0.8351\n",
            "Epoch 19/30\n",
            "329/329 [==============================] - 1s 4ms/step - loss: 0.2661 - acc: 0.9217 - val_loss: 38.2794 - val_acc: 0.8346\n",
            "Epoch 20/30\n",
            "329/329 [==============================] - 1s 4ms/step - loss: 0.2593 - acc: 0.9249 - val_loss: 37.7725 - val_acc: 0.8374\n",
            "Epoch 21/30\n",
            "329/329 [==============================] - 1s 4ms/step - loss: 0.2523 - acc: 0.9278 - val_loss: 38.7417 - val_acc: 0.8332\n",
            "Epoch 22/30\n",
            "329/329 [==============================] - 1s 4ms/step - loss: 0.2454 - acc: 0.9286 - val_loss: 38.3622 - val_acc: 0.8351\n",
            "Epoch 23/30\n",
            "329/329 [==============================] - 1s 3ms/step - loss: 0.2383 - acc: 0.9312 - val_loss: 38.6814 - val_acc: 0.8350\n",
            "Epoch 24/30\n",
            "329/329 [==============================] - 1s 3ms/step - loss: 0.2322 - acc: 0.9330 - val_loss: 37.2458 - val_acc: 0.8424\n",
            "Epoch 25/30\n",
            "329/329 [==============================] - 1s 4ms/step - loss: 0.2260 - acc: 0.9347 - val_loss: 38.8460 - val_acc: 0.8364\n",
            "Epoch 26/30\n",
            "329/329 [==============================] - 1s 3ms/step - loss: 0.2205 - acc: 0.9360 - val_loss: 38.8082 - val_acc: 0.8396\n",
            "Epoch 27/30\n",
            "329/329 [==============================] - 1s 3ms/step - loss: 0.2143 - acc: 0.9385 - val_loss: 37.3928 - val_acc: 0.8458\n",
            "Epoch 28/30\n",
            "329/329 [==============================] - 1s 3ms/step - loss: 0.2091 - acc: 0.9399 - val_loss: 38.3408 - val_acc: 0.8453\n",
            "Epoch 29/30\n",
            "329/329 [==============================] - 1s 4ms/step - loss: 0.2032 - acc: 0.9409 - val_loss: 37.6908 - val_acc: 0.8466\n",
            "Epoch 30/30\n",
            "329/329 [==============================] - 1s 4ms/step - loss: 0.1986 - acc: 0.9426 - val_loss: 37.1585 - val_acc: 0.8504\n"
          ],
          "name": "stdout"
        }
      ]
    },
    {
      "cell_type": "markdown",
      "metadata": {
        "id": "dS0LbVhhmTGu"
      },
      "source": [
        "###**history를 통해 확인할 수 있는 값 출력**"
      ]
    },
    {
      "cell_type": "code",
      "metadata": {
        "colab": {
          "base_uri": "https://localhost:8080/"
        },
        "id": "q1q1_X9nmQVw",
        "outputId": "6ed15d1d-f46d-4adf-d6b5-b5dd57ad13c2"
      },
      "source": [
        "history.history.keys()"
      ],
      "execution_count": null,
      "outputs": [
        {
          "output_type": "execute_result",
          "data": {
            "text/plain": [
              "dict_keys(['loss', 'acc', 'val_loss', 'val_acc'])"
            ]
          },
          "metadata": {
            "tags": []
          },
          "execution_count": 12
        }
      ]
    },
    {
      "cell_type": "markdown",
      "metadata": {
        "id": "voZlEHOZma_F"
      },
      "source": [
        "###**학습 결과 그려보기**"
      ]
    },
    {
      "cell_type": "code",
      "metadata": {
        "colab": {
          "base_uri": "https://localhost:8080/",
          "height": 350
        },
        "id": "MpFSUXW3maAA",
        "outputId": "e2ff9adf-f714-4fba-8cfa-b2bb34ba863b"
      },
      "source": [
        "import matplotlib.pyplot as plt\n",
        "\n",
        "his_dict = history.history\n",
        "loss = his_dict['loss']\n",
        "val_loss = his_dict['val_loss']       # 검증 데이터가 있는 경우 val_ 수식어가 붙음\n",
        "\n",
        "epochs = range(1, len(loss) + 1)\n",
        "fig = plt.figure(figsize = (10, 5))\n",
        "\n",
        "# 학습 및 검증 손실 그리기\n",
        "ax1 = fig.add_subplot(1, 2, 1)\n",
        "ax1.plot(epochs, loss, color = 'blue', label = 'train_loss')\n",
        "ax1.plot(epochs, val_loss, color = 'orange', label = 'val_loss')\n",
        "ax1.set_title('train and val loss')\n",
        "ax1.set_xlabel('epochs')\n",
        "ax1.set_ylabel('loss')\n",
        "ax1.legend()\n",
        "\n",
        "acc = his_dict['acc']\n",
        "val_acc = his_dict['val_acc']\n",
        "\n",
        "# 학습 및 검증 정확도 그리기\n",
        "ax2 = fig.add_subplot(1, 2, 2)\n",
        "ax2.plot(epochs, acc, color = 'blue', label = 'train_loss')\n",
        "ax2.plot(epochs, val_acc, color = 'orange', label = 'val_loss')\n",
        "ax2.set_title('train and val loss')\n",
        "ax2.set_xlabel('epochs')\n",
        "ax2.set_ylabel('loss')\n",
        "ax2.legend()\n",
        "\n",
        "plt.show()"
      ],
      "execution_count": null,
      "outputs": [
        {
          "output_type": "display_data",
          "data": {
            "image/png": "[encoded data removed]",
            "text/plain": [
              "<Figure size 720x360 with 2 Axes>"
            ]
          },
          "metadata": {
            "tags": [],
            "needs_background": "light"
          }
        }
      ]
    },
    {
      "cell_type": "code",
      "metadata": {
        "colab": {
          "base_uri": "https://localhost:8080/"
        },
        "id": "FBpPGFN3pIck",
        "outputId": "4066b00a-a992-4980-b8ce-5590c2e132c5"
      },
      "source": [
        "model.evaluate(x_test, y_test)"
      ],
      "execution_count": null,
      "outputs": [
        {
          "output_type": "stream",
          "text": [
            "313/313 [==============================] - 0s 1ms/step - loss: 36.9607 - acc: 0.8543\n"
          ],
          "name": "stdout"
        },
        {
          "output_type": "execute_result",
          "data": {
            "text/plain": [
              "[36.96074295043945, 0.8543000221252441]"
            ]
          },
          "metadata": {
            "tags": []
          },
          "execution_count": 19
        }
      ]
    },
    {
      "cell_type": "code",
      "metadata": {
        "colab": {
          "base_uri": "https://localhost:8080/"
        },
        "id": "5jCZHBA2pMhM",
        "outputId": "97880175-ceb7-4489-b4f2-32aa7f9b4ab8"
      },
      "source": [
        "import numpy as np\n",
        "\n",
        "results = model.predict(x_test)\n",
        "print(results.shape)\n",
        "np.set_printoptions(precision=7)\n",
        "print(f'각 클래스에 속할 확률 : \\n{results [0]}')"
      ],
      "execution_count": null,
      "outputs": [
        {
          "output_type": "stream",
          "text": [
            "(10000, 10)\n",
            "각 클래스에 속할 확률 : \n",
            "[0. 0. 0. 0. 0. 0. 0. 1. 0. 0.]\n"
          ],
          "name": "stdout"
        }
      ]
    },
    {
      "cell_type": "markdown",
      "metadata": {
        "id": "nSwmdmxEoc1z"
      },
      "source": [
        "###**모델 평가 방법 1 - 혼동행렬**"
      ]
    },
    {
      "cell_type": "code",
      "metadata": {
        "colab": {
          "base_uri": "https://localhost:8080/",
          "height": 442
        },
        "id": "pr22vKbqmsmg",
        "outputId": "b9772360-d9c6-44fc-a232-c792675f501c"
      },
      "source": [
        "from sklearn.metrics import classification_report, confusion_matrix\n",
        "import matplotlib.pyplot as plt\n",
        "import seaborn as sns\n",
        "\n",
        "plt.figure(figsize = (7, 7))\n",
        "cm = confusion_matrix(np.argmax(y_test, axis = -1), np.argmax(results, axis = -1))\n",
        "sns.heatmap(cm, annot = True, fmt = 'd', cmap = 'Blues')\n",
        "plt.xlabel('predicted label')\n",
        "plt.ylabel('true label')\n",
        "plt.show()"
      ],
      "execution_count": null,
      "outputs": [
        {
          "output_type": "display_data",
          "data": {
            "image/png": "[encoded data removed]",
            "text/plain": [
              "<Figure size 504x504 with 2 Axes>"
            ]
          },
          "metadata": {
            "tags": [],
            "needs_background": "light"
          }
        }
      ]
    },
    {
      "cell_type": "markdown",
      "metadata": {
        "id": "SfnFxj97pfHb"
      },
      "source": [
        "###**모델 평가 방법 - 2 분류 보고서**"
      ]
    },
    {
      "cell_type": "code",
      "metadata": {
        "colab": {
          "base_uri": "https://localhost:8080/"
        },
        "id": "xylosQnVnBH_",
        "outputId": "24af9a20-e0f7-4b36-c8a3-70ce7c6ea2a1"
      },
      "source": [
        "print('\\n', classification_report(np.argmax(y_test, axis = -1),\n",
        "                                  np.argmax(results, axis = -1)))"
      ],
      "execution_count": null,
      "outputs": [
        {
          "output_type": "stream",
          "text": [
            "\n",
            "               precision    recall  f1-score   support\n",
            "\n",
            "           0       0.85      0.98      0.91       980\n",
            "           1       0.98      0.94      0.96      1135\n",
            "           2       0.89      0.90      0.89      1032\n",
            "           3       0.66      0.96      0.78      1010\n",
            "           4       0.97      0.78      0.87       982\n",
            "           5       0.97      0.72      0.83       892\n",
            "           6       0.98      0.84      0.90       958\n",
            "           7       0.80      0.96      0.87      1028\n",
            "           8       0.77      0.82      0.80       974\n",
            "           9       0.84      0.62      0.71      1009\n",
            "\n",
            "    accuracy                           0.85     10000\n",
            "   macro avg       0.87      0.85      0.85     10000\n",
            "weighted avg       0.87      0.85      0.85     10000\n",
            "\n"
          ],
          "name": "stdout"
        }
      ]
    },
    {
      "cell_type": "code",
      "metadata": {
        "id": "gLA5xCV8nXYY"
      },
      "source": [
        ""
      ],
      "execution_count": null,
      "outputs": []
    }
  ]
}