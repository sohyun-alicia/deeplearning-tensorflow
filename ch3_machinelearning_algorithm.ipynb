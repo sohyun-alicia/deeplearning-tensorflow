{
  "nbformat": 4,
  "nbformat_minor": 0,
  "metadata": {
    "colab": {
      "name": "ch3. machinelearning algorithm.ipynb",
      "provenance": [],
      "authorship_tag": "ABX9TyP/mezVd/PPi0nANTGLqoAM",
      "include_colab_link": true
    },
    "kernelspec": {
      "name": "python3",
      "display_name": "Python 3"
    },
    "language_info": {
      "name": "python"
    }
  },
  "cells": [
    {
      "cell_type": "markdown",
      "metadata": {
        "id": "view-in-github",
        "colab_type": "text"
      },
      "source": [
        "<a href=\"https://colab.research.google.com/github/sohyun-alicia/deeplearning-tensorflow/blob/main/ch3_machinelearning_algorithm.ipynb\" target=\"_parent\"><img src=\"https://colab.research.google.com/assets/colab-badge.svg\" alt=\"Open In Colab\"/></a>"
      ]
    },
    {
      "cell_type": "markdown",
      "metadata": {
        "id": "PBSzJrVJqjKd"
      },
      "source": [
        "**K-최근접 이웃**\n"
      ]
    },
    {
      "cell_type": "code",
      "metadata": {
        "id": "mlQCH5GzmsZk"
      },
      "source": [
        "import numpy as np\n",
        "import matplotlib.pyplot as plt\n",
        "import pandas as pd\n",
        "from sklearn import metrics"
      ],
      "execution_count": null,
      "outputs": []
    },
    {
      "cell_type": "code",
      "metadata": {
        "id": "UIvZL-KKmuJ_"
      },
      "source": [
        "names = ['sepal-length', 'sepal-width', 'petal-length', 'petal-width', 'Class']\n",
        "dataset = pd.read_csv('iris.data', names=names)\n",
        "X = dataset.iloc[:, :-1].values\n",
        "y = dataset.iloc[:, 4].values"
      ],
      "execution_count": null,
      "outputs": []
    },
    {
      "cell_type": "code",
      "metadata": {
        "id": "Vvu5UtrenPsL"
      },
      "source": [
        "from sklearn.model_selection import train_test_split\n",
        "X_train, X_test, y_train, y_test = train_test_split(X, y, test_size=0.20)"
      ],
      "execution_count": null,
      "outputs": []
    },
    {
      "cell_type": "code",
      "metadata": {
        "id": "vUCLpqCxnZEJ"
      },
      "source": [
        "from sklearn.preprocessing import StandardScaler\n",
        "s = StandardScaler()\n",
        "X_train = s.fit_transform(X_train)\n",
        "X_test = s.fit_transform(X_test)"
      ],
      "execution_count": null,
      "outputs": []
    },
    {
      "cell_type": "code",
      "metadata": {
        "colab": {
          "base_uri": "https://localhost:8080/"
        },
        "id": "QuLfez73ni1o",
        "outputId": "80c131af-f0b7-4f15-a39a-2877e301c8fb"
      },
      "source": [
        "# 모델 생성 및 훈련\n",
        "\n",
        "from sklearn.neighbors import KNeighborsClassifier\n",
        "knn = KNeighborsClassifier(n_neighbors = 50)\n",
        "knn.fit(X_train, y_train)"
      ],
      "execution_count": null,
      "outputs": [
        {
          "output_type": "execute_result",
          "data": {
            "text/plain": [
              "KNeighborsClassifier(algorithm='auto', leaf_size=30, metric='minkowski',\n",
              "                     metric_params=None, n_jobs=None, n_neighbors=50, p=2,\n",
              "                     weights='uniform')"
            ]
          },
          "metadata": {
            "tags": []
          },
          "execution_count": 10
        }
      ]
    },
    {
      "cell_type": "code",
      "metadata": {
        "colab": {
          "base_uri": "https://localhost:8080/"
        },
        "id": "syjekxjjn_3w",
        "outputId": "20d868be-2811-43a9-9b6a-0362cea23078"
      },
      "source": [
        "# 모델 정확도\n",
        "from sklearn.metrics import accuracy_score\n",
        "y_pred = knn.predict(X_test)\n",
        "print(\"정확도: {}\".format(accuracy_score(y_test, y_pred)))"
      ],
      "execution_count": null,
      "outputs": [
        {
          "output_type": "stream",
          "text": [
            "정확도: 0.9333333333333333\n"
          ],
          "name": "stdout"
        }
      ]
    },
    {
      "cell_type": "code",
      "metadata": {
        "colab": {
          "base_uri": "https://localhost:8080/"
        },
        "id": "S0e4HxZjoT8H",
        "outputId": "f9c01c33-44fa-47f9-cc6f-6ea296684147"
      },
      "source": [
        "# 최적의 K찾기\n",
        "\n",
        "k = 10\n",
        "acc_array = np.zeros(k)\n",
        "for k in np.arange(1, k+1, 1):\n",
        "  classifier = KNeighborsClassifier(n_neighbors=k).fit(X_train, y_train)\n",
        "  y_pred = classifier.predict(X_test)\n",
        "  acc = metrics.accuracy_score(y_test, y_pred)\n",
        "  acc_array[k-1] = acc\n",
        "\n",
        "max_acc = np.amax(acc_array)\n",
        "acc_list = list(acc_array)\n",
        "k = acc_list.index(max_acc)\n",
        "print(\"정확도\", round(max_acc, 2), \"으로 최적의 k는\", k+1, \"입니다.\")"
      ],
      "execution_count": null,
      "outputs": [
        {
          "output_type": "stream",
          "text": [
            "정확도 0.97 으로 최적의 k는 3 입니다.\n"
          ],
          "name": "stdout"
        }
      ]
    },
    {
      "cell_type": "markdown",
      "metadata": {
        "id": "fIExM_nTvLKx"
      },
      "source": [
        "**서포트 벡터 머신**"
      ]
    },
    {
      "cell_type": "code",
      "metadata": {
        "id": "WWgwnMPtp0uR"
      },
      "source": [
        "# 라이브러리 호출\n",
        "\n",
        "from sklearn import svm\n",
        "from sklearn import metrics\n",
        "from sklearn import datasets\n",
        "from sklearn import model_selection\n",
        "\n",
        "import tensorflow as tf\n",
        "import os\n",
        "os.environ['TF_CPP_MIN_LOG_LEVEL'] = '3'"
      ],
      "execution_count": null,
      "outputs": []
    },
    {
      "cell_type": "code",
      "metadata": {
        "id": "AE7SyHK1uvBq"
      },
      "source": [
        "# iris 데이터를 준비하고 훈련과 검증 데이터셋으로 분리\n",
        "\n",
        "iris = datasets.load_iris()\n",
        "X_train, X_test, y_train, y_test = model_selection.train_test_split(iris.data, iris.target, test_size=0.6, random_state=42)\n",
        "# 사이킷런의 model_selection 패키지에서 제공하는 train_test_split 메서드를 활용하여 훈련셋(train set)과 검증셋(test set)으로 분리"
      ],
      "execution_count": null,
      "outputs": []
    },
    {
      "cell_type": "code",
      "metadata": {
        "colab": {
          "base_uri": "https://localhost:8080/"
        },
        "id": "Re9CLzdlvb0G",
        "outputId": "99aa2f70-247c-4222-aa3a-4f7345bf4d91"
      },
      "source": [
        "# SVM 모델에대한 정확도\n",
        "svm = svm.SVC(kernel='linear', C=1.0, gamma=0.5)\n",
        "svm.fit(X_train, y_train)\n",
        "predictions = svm.predict(X_test)\n",
        "score = metrics.accuracy_score(y_test, predictions)\n",
        "print('정확도: {0:f}'.format(score))"
      ],
      "execution_count": null,
      "outputs": [
        {
          "output_type": "stream",
          "text": [
            "정확도: 0.988889\n"
          ],
          "name": "stdout"
        }
      ]
    },
    {
      "cell_type": "markdown",
      "metadata": {
        "id": "Hsj37Pfgzd7I"
      },
      "source": [
        "**결정트리**"
      ]
    },
    {
      "cell_type": "code",
      "metadata": {
        "colab": {
          "base_uri": "https://localhost:8080/"
        },
        "id": "Iq3QklncwTGj",
        "outputId": "dd44cb12-7260-4fa2-9a51-c3d3ff278b68"
      },
      "source": [
        "# 라이브러리 호출 및 데이터 준비\n",
        "import pandas as pd\n",
        "\n",
        "# 판다스를 이용, train.csv파일을 로드해서 df에 저장\n",
        "df = pd.read_csv('train.csv', index_col='PassengerId')\n",
        "print(df.head())    # train.csv 데이터 상위 행 다섯개 출력"
      ],
      "execution_count": null,
      "outputs": [
        {
          "output_type": "stream",
          "text": [
            "             Survived  Pclass  ... Cabin Embarked\n",
            "PassengerId                    ...               \n",
            "1                   0       3  ...   NaN        S\n",
            "2                   1       1  ...   C85        C\n",
            "3                   1       3  ...   NaN        S\n",
            "4                   1       1  ...  C123        S\n",
            "5                   0       3  ...   NaN        S\n",
            "\n",
            "[5 rows x 11 columns]\n"
          ],
          "name": "stdout"
        }
      ]
    },
    {
      "cell_type": "code",
      "metadata": {
        "id": "3E8YLoMHzomA"
      },
      "source": [
        "# 데이터 전처리\n",
        "\n",
        "# 승객의 생존 여부를 예측하기 위해 'Pclass', 'Sex', 'Age', 'SibSp', 'Parch', 'Fare' 사용\n",
        "df = df[['Pclass', 'Sex', 'Age', 'SibSp', 'Parch', 'Fare', 'Survived']]\n",
        "\n",
        "# 성별을 나타내는 'sex'를 0 또는 1의 정수 값으로 변환\n",
        "df['Sex'] = df['Sex'].map({'male':0, 'female':1})\n",
        "\n",
        "df = df.dropna()    # 값이 없는 데이터 삭제\n",
        "X = df.drop('Survived', axis=1)\n",
        "\n",
        "y = df['Survived']    # 'Survived' 값을 예측 레이블로 사용"
      ],
      "execution_count": null,
      "outputs": []
    },
    {
      "cell_type": "code",
      "metadata": {
        "id": "tTdSfMk20SdL"
      },
      "source": [
        "# 훈련과 검증 데이터셋으로 분리\n",
        "from sklearn.model_selection import train_test_split\n",
        "X_train, X_test, y_train, y_test = train_test_split(X, y, random_state=1)"
      ],
      "execution_count": null,
      "outputs": []
    },
    {
      "cell_type": "code",
      "metadata": {
        "id": "AJku6NBF0vIX"
      },
      "source": [
        "# 결정 트리 모델 생성\n",
        "from sklearn import tree\n",
        "model = tree.DecisionTreeClassifier()"
      ],
      "execution_count": null,
      "outputs": []
    },
    {
      "cell_type": "code",
      "metadata": {
        "colab": {
          "base_uri": "https://localhost:8080/"
        },
        "id": "8HMGg6aS002M",
        "outputId": "b223597c-1119-423f-e683-36bcf06d62fc"
      },
      "source": [
        "# 모델 훈련\n",
        "model.fit(X_train, y_train)"
      ],
      "execution_count": null,
      "outputs": [
        {
          "output_type": "execute_result",
          "data": {
            "text/plain": [
              "DecisionTreeClassifier(ccp_alpha=0.0, class_weight=None, criterion='gini',\n",
              "                       max_depth=None, max_features=None, max_leaf_nodes=None,\n",
              "                       min_impurity_decrease=0.0, min_impurity_split=None,\n",
              "                       min_samples_leaf=1, min_samples_split=2,\n",
              "                       min_weight_fraction_leaf=0.0, presort='deprecated',\n",
              "                       random_state=None, splitter='best')"
            ]
          },
          "metadata": {
            "tags": []
          },
          "execution_count": 46
        }
      ]
    },
    {
      "cell_type": "code",
      "metadata": {
        "colab": {
          "base_uri": "https://localhost:8080/"
        },
        "id": "M0t_7QhS072P",
        "outputId": "80b687ec-23aa-407b-b5da-321f2ac3350b"
      },
      "source": [
        "# 모델 예측\n",
        "\n",
        "y_predict = model.predict(X_test)\n",
        "from sklearn.metrics import accuracy_score\n",
        "accuracy_score(y_test, y_predict)"
      ],
      "execution_count": null,
      "outputs": [
        {
          "output_type": "execute_result",
          "data": {
            "text/plain": [
              "0.8212290502793296"
            ]
          },
          "metadata": {
            "tags": []
          },
          "execution_count": 48
        }
      ]
    },
    {
      "cell_type": "code",
      "metadata": {
        "colab": {
          "base_uri": "https://localhost:8080/",
          "height": 110
        },
        "id": "9lisziCk1Y7e",
        "outputId": "f209bbfe-ff11-4d9f-e3e8-eb14d2c85064"
      },
      "source": [
        "# 혼동 행렬을 이용한 성능 측정\n",
        "\n",
        "from sklearn.metrics import confusion_matrix\n",
        "pd.DataFrame(\n",
        "    confusion_matrix(y_test, y_predict),\n",
        "    columns=['Predicted Not Survival', 'Predicted Survival'],\n",
        "    index=['True Not Survival', 'True Survival']\n",
        ")"
      ],
      "execution_count": null,
      "outputs": [
        {
          "output_type": "execute_result",
          "data": {
            "text/html": [
              "<div>\n",
              "<style scoped>\n",
              "    .dataframe tbody tr th:only-of-type {\n",
              "        vertical-align: middle;\n",
              "    }\n",
              "\n",
              "    .dataframe tbody tr th {\n",
              "        vertical-align: top;\n",
              "    }\n",
              "\n",
              "    .dataframe thead th {\n",
              "        text-align: right;\n",
              "    }\n",
              "</style>\n",
              "<table border=\"1\" class=\"dataframe\">\n",
              "  <thead>\n",
              "    <tr style=\"text-align: right;\">\n",
              "      <th></th>\n",
              "      <th>Predicted Not Survival</th>\n",
              "      <th>Predicted Survival</th>\n",
              "    </tr>\n",
              "  </thead>\n",
              "  <tbody>\n",
              "    <tr>\n",
              "      <th>True Not Survival</th>\n",
              "      <td>98</td>\n",
              "      <td>14</td>\n",
              "    </tr>\n",
              "    <tr>\n",
              "      <th>True Survival</th>\n",
              "      <td>18</td>\n",
              "      <td>49</td>\n",
              "    </tr>\n",
              "  </tbody>\n",
              "</table>\n",
              "</div>"
            ],
            "text/plain": [
              "                   Predicted Not Survival  Predicted Survival\n",
              "True Not Survival                      98                  14\n",
              "True Survival                          18                  49"
            ]
          },
          "metadata": {
            "tags": []
          },
          "execution_count": 49
        }
      ]
    },
    {
      "cell_type": "markdown",
      "metadata": {
        "id": "J4nw1efUg8CI"
      },
      "source": [
        "**로지스틱 회귀**\n"
      ]
    },
    {
      "cell_type": "code",
      "metadata": {
        "colab": {
          "base_uri": "https://localhost:8080/"
        },
        "id": "zKexhOyF1-0G",
        "outputId": "81855c56-24e4-4f35-e86b-9f8698d73e82"
      },
      "source": [
        "%matplotlib inline\n",
        "from sklearn.datasets import load_digits\n",
        "digits = load_digits()      # 숫자 데이터셋(digits)은 사이킷런에서 제공\n",
        "\n",
        "# digits 데이터셋의 형태(이미지가 1797개 있으며, 8x8 이미지의 64차원을 가짐)\n",
        "print(\"Image Data Shape\", digits.data.shape)\n",
        "# 레이블 이미지 1797개가 있음\n",
        "print(\"Label Data Shape\", digits.target.shape)"
      ],
      "execution_count": null,
      "outputs": [
        {
          "output_type": "stream",
          "text": [
            "Image Data Shape (1797, 64)\n",
            "Label Data Shape (1797,)\n"
          ],
          "name": "stdout"
        }
      ]
    },
    {
      "cell_type": "code",
      "metadata": {
        "id": "OYpBrPzwiKvO"
      },
      "source": [
        ""
      ],
      "execution_count": null,
      "outputs": []
    }
  ]
}